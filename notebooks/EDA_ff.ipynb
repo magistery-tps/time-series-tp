{
 "cells": [
  {
   "cell_type": "markdown",
   "metadata": {},
   "source": [
    "# Prophet"
   ]
  },
  {
   "cell_type": "markdown",
   "metadata": {},
   "source": [
    "* https://facebook.github.io/prophet/docs/quick_start.html#python-api"
   ]
  },
  {
   "cell_type": "code",
   "execution_count": 45,
   "metadata": {},
   "outputs": [
    {
     "name": "stdout",
     "output_type": "stream",
     "text": [
      "The autoreload extension is already loaded. To reload it, use:\n",
      "  %reload_ext autoreload\n"
     ]
    }
   ],
   "source": [
    "%load_ext autoreload\n",
    "%autoreload 2"
   ]
  },
  {
   "cell_type": "code",
   "execution_count": 46,
   "metadata": {},
   "outputs": [],
   "source": [
    "import sys\n",
    "sys.path.append('../src')"
   ]
  },
  {
   "cell_type": "code",
   "execution_count": 47,
   "metadata": {},
   "outputs": [
    {
     "name": "stderr",
     "output_type": "stream",
     "text": [
      "C:\\Users\\flavi\\anaconda3\\envs\\time-series\\lib\\site-packages\\tqdm\\auto.py:22: TqdmWarning: IProgress not found. Please update jupyter and ipywidgets. See https://ipywidgets.readthedocs.io/en/stable/user_install.html\n",
      "  from .autonotebook import tqdm as notebook_tqdm\n",
      "C:\\Users\\flavi\\anaconda3\\envs\\time-series\\lib\\site-packages\\statsmodels\\tsa\\base\\tsa_model.py:7: FutureWarning: pandas.Int64Index is deprecated and will be removed from pandas in a future version. Use pandas.Index with the appropriate dtype instead.\n",
      "  from pandas import (to_datetime, Int64Index, DatetimeIndex, Period,\n",
      "C:\\Users\\flavi\\anaconda3\\envs\\time-series\\lib\\site-packages\\statsmodels\\tsa\\base\\tsa_model.py:7: FutureWarning: pandas.Float64Index is deprecated and will be removed from pandas in a future version. Use pandas.Index with the appropriate dtype instead.\n",
      "  from pandas import (to_datetime, Int64Index, DatetimeIndex, Period,\n"
     ]
    }
   ],
   "source": [
    "import seaborn as sns\n",
    "import matplotlib.pyplot as plt\n",
    "\n",
    "import pandas as pd\n",
    "import numpy as np\n",
    "import random\n",
    "import torch\n",
    "\n",
    "from statsmodels.graphics.tsaplots import plot_pacf\n",
    "\n",
    "from data   import standarizer, \\\n",
    "                   features_target_split, \\\n",
    "                   train_test_split\n",
    "\n",
    "from data   import train_test_split\n",
    "\n",
    "import pytorch_common.util    as pu\n",
    "from prophet import Prophet"
   ]
  },
  {
   "cell_type": "markdown",
   "metadata": {
    "tags": []
   },
   "source": [
    "## Setup"
   ]
  },
  {
   "cell_type": "code",
   "execution_count": 48,
   "metadata": {},
   "outputs": [
    {
     "data": {
      "text/html": [
       "<div>\n",
       "<style scoped>\n",
       "    .dataframe tbody tr th:only-of-type {\n",
       "        vertical-align: middle;\n",
       "    }\n",
       "\n",
       "    .dataframe tbody tr th {\n",
       "        vertical-align: top;\n",
       "    }\n",
       "\n",
       "    .dataframe thead th {\n",
       "        text-align: right;\n",
       "    }\n",
       "</style>\n",
       "<table border=\"1\" class=\"dataframe\">\n",
       "  <thead>\n",
       "    <tr style=\"text-align: right;\">\n",
       "      <th></th>\n",
       "      <th>ds</th>\n",
       "      <th>y</th>\n",
       "      <th>tmp</th>\n",
       "    </tr>\n",
       "  </thead>\n",
       "  <tbody>\n",
       "    <tr>\n",
       "      <th>0</th>\n",
       "      <td>2005-12-01</td>\n",
       "      <td>81445.928</td>\n",
       "      <td>18.104167</td>\n",
       "    </tr>\n",
       "    <tr>\n",
       "      <th>1</th>\n",
       "      <td>2005-12-02</td>\n",
       "      <td>81749.888</td>\n",
       "      <td>17.904167</td>\n",
       "    </tr>\n",
       "    <tr>\n",
       "      <th>2</th>\n",
       "      <td>2005-12-03</td>\n",
       "      <td>72134.590</td>\n",
       "      <td>19.562500</td>\n",
       "    </tr>\n",
       "    <tr>\n",
       "      <th>3</th>\n",
       "      <td>2005-12-04</td>\n",
       "      <td>63452.628</td>\n",
       "      <td>18.854167</td>\n",
       "    </tr>\n",
       "    <tr>\n",
       "      <th>4</th>\n",
       "      <td>2005-12-05</td>\n",
       "      <td>81508.078</td>\n",
       "      <td>21.941667</td>\n",
       "    </tr>\n",
       "  </tbody>\n",
       "</table>\n",
       "</div>"
      ]
     },
     "execution_count": 48,
     "metadata": {},
     "output_type": "execute_result"
    }
   ],
   "source": [
    "DATASET_PATH = '../datasets/consumo_energetico_diario.csv'\n",
    "dataset = pd.read_csv(DATASET_PATH,parse_dates=['dia'])\n",
    "dataset.columns = dataset.columns.str.lower()\n",
    "\n",
    "dataset.rename(columns={'dia':'ds','mwh':'y'},inplace=True)\n",
    "\n",
    "dataset.head()"
   ]
  },
  {
   "cell_type": "markdown",
   "metadata": {},
   "source": [
    "Datos desglosado de demanda de grandes usuarios y distribuidores de energia. Solo esta disponible acumulado mensual \n",
    "\n",
    "http://datos.energia.gob.ar/dataset/publicaciones-cammesa/archivo/30e1c42d-44a7-428f-a55a-12c81dc14186"
   ]
  },
  {
   "cell_type": "markdown",
   "metadata": {},
   "source": [
    "#### Comparativa entre dataset mensual y el dataset original"
   ]
  },
  {
   "cell_type": "code",
   "execution_count": 49,
   "metadata": {},
   "outputs": [
    {
     "data": {
      "text/html": [
       "<pre style=\"white-space:pre;overflow-x:auto;line-height:normal;font-family:Menlo,'DejaVu Sans Mono',consolas,'Courier New',monospace\">regiones: <span style=\"font-weight: bold\">[</span><span style=\"color: #008000; text-decoration-color: #008000\">'GRAN BS.AS.'</span> <span style=\"color: #008000; text-decoration-color: #008000\">'BUENOS AIRES'</span> <span style=\"color: #008000; text-decoration-color: #008000\">'LITORAL'</span> <span style=\"color: #008000; text-decoration-color: #008000\">'CUYO'</span> <span style=\"color: #008000; text-decoration-color: #008000\">'PATAGONICA'</span> <span style=\"color: #008000; text-decoration-color: #008000\">'NORESTE'</span>\n",
       " <span style=\"color: #008000; text-decoration-color: #008000\">'COMAHUE'</span> <span style=\"color: #008000; text-decoration-color: #008000\">'NOROESTE'</span> <span style=\"color: #008000; text-decoration-color: #008000\">'CENTRO'</span><span style=\"font-weight: bold\">]</span>\n",
       "</pre>\n"
      ],
      "text/plain": [
       "regiones: \u001b[1m[\u001b[0m\u001b[32m'GRAN BS.AS.'\u001b[0m \u001b[32m'BUENOS AIRES'\u001b[0m \u001b[32m'LITORAL'\u001b[0m \u001b[32m'CUYO'\u001b[0m \u001b[32m'PATAGONICA'\u001b[0m \u001b[32m'NORESTE'\u001b[0m\n",
       " \u001b[32m'COMAHUE'\u001b[0m \u001b[32m'NOROESTE'\u001b[0m \u001b[32m'CENTRO'\u001b[0m\u001b[1m]\u001b[0m\n"
      ]
     },
     "metadata": {},
     "output_type": "display_data"
    },
    {
     "data": {
      "text/html": [
       "<pre style=\"white-space:pre;overflow-x:auto;line-height:normal;font-family:Menlo,'DejaVu Sans Mono',consolas,'Courier New',monospace\">categoria_demanda: <span style=\"font-weight: bold\">[</span><span style=\"color: #008000; text-decoration-color: #008000\">'Gran Usuario'</span> <span style=\"color: #008000; text-decoration-color: #008000\">'Distribuidor'</span><span style=\"font-weight: bold\">]</span>\n",
       "</pre>\n"
      ],
      "text/plain": [
       "categoria_demanda: \u001b[1m[\u001b[0m\u001b[32m'Gran Usuario'\u001b[0m \u001b[32m'Distribuidor'\u001b[0m\u001b[1m]\u001b[0m\n"
      ]
     },
     "metadata": {},
     "output_type": "display_data"
    },
    {
     "data": {
      "text/html": [
       "<pre style=\"white-space:pre;overflow-x:auto;line-height:normal;font-family:Menlo,'DejaVu Sans Mono',consolas,'Courier New',monospace\">tipo_agente: <span style=\"font-weight: bold\">[</span><span style=\"color: #008000; text-decoration-color: #008000\">'GU'</span> <span style=\"color: #008000; text-decoration-color: #008000\">'AG'</span> <span style=\"color: #008000; text-decoration-color: #008000\">'DI'</span> <span style=\"color: #008000; text-decoration-color: #008000\">'AR'</span><span style=\"font-weight: bold\">]</span>\n",
       "</pre>\n"
      ],
      "text/plain": [
       "tipo_agente: \u001b[1m[\u001b[0m\u001b[32m'GU'\u001b[0m \u001b[32m'AG'\u001b[0m \u001b[32m'DI'\u001b[0m \u001b[32m'AR'\u001b[0m\u001b[1m]\u001b[0m\n"
      ]
     },
     "metadata": {},
     "output_type": "display_data"
    },
    {
     "data": {
      "text/html": [
       "<div>\n",
       "<style scoped>\n",
       "    .dataframe tbody tr th:only-of-type {\n",
       "        vertical-align: middle;\n",
       "    }\n",
       "\n",
       "    .dataframe tbody tr th {\n",
       "        vertical-align: top;\n",
       "    }\n",
       "\n",
       "    .dataframe thead th {\n",
       "        text-align: right;\n",
       "    }\n",
       "</style>\n",
       "<table border=\"1\" class=\"dataframe\">\n",
       "  <thead>\n",
       "    <tr style=\"text-align: right;\">\n",
       "      <th></th>\n",
       "      <th>anio</th>\n",
       "      <th>mes</th>\n",
       "      <th>agente_nemo</th>\n",
       "      <th>agente_descripcion</th>\n",
       "      <th>tipo_agente</th>\n",
       "      <th>region</th>\n",
       "      <th>provincia</th>\n",
       "      <th>categoria_area</th>\n",
       "      <th>categoria_demanda</th>\n",
       "      <th>tarifa</th>\n",
       "      <th>categoria_tarifa</th>\n",
       "      <th>demanda</th>\n",
       "      <th>ds</th>\n",
       "    </tr>\n",
       "  </thead>\n",
       "  <tbody>\n",
       "    <tr>\n",
       "      <th>0</th>\n",
       "      <td>2012</td>\n",
       "      <td>1</td>\n",
       "      <td>AARGTAOY</td>\n",
       "      <td>AEROP ARG 2000 - Aeroparque</td>\n",
       "      <td>GU</td>\n",
       "      <td>GRAN BS.AS.</td>\n",
       "      <td>BUENOS AIRES</td>\n",
       "      <td>Gran Usuario MEM</td>\n",
       "      <td>Gran Usuario</td>\n",
       "      <td>GUMAS/AUTOGENERADORES</td>\n",
       "      <td>Industrial/Comercial Grande</td>\n",
       "      <td>2222.628</td>\n",
       "      <td>2012-01-01</td>\n",
       "    </tr>\n",
       "    <tr>\n",
       "      <th>1</th>\n",
       "      <td>2012</td>\n",
       "      <td>1</td>\n",
       "      <td>ACARQQ3Y</td>\n",
       "      <td>ASOC.COOP.ARG. - Quequén</td>\n",
       "      <td>GU</td>\n",
       "      <td>BUENOS AIRES</td>\n",
       "      <td>BUENOS AIRES</td>\n",
       "      <td>Gran Usuario MEM</td>\n",
       "      <td>Gran Usuario</td>\n",
       "      <td>GUMAS/AUTOGENERADORES</td>\n",
       "      <td>Industrial/Comercial Grande</td>\n",
       "      <td>536.858</td>\n",
       "      <td>2012-01-01</td>\n",
       "    </tr>\n",
       "    <tr>\n",
       "      <th>2</th>\n",
       "      <td>2012</td>\n",
       "      <td>1</td>\n",
       "      <td>ACARSLSY</td>\n",
       "      <td>ASOC.COOP.ARG. - San Lorenzo</td>\n",
       "      <td>GU</td>\n",
       "      <td>LITORAL</td>\n",
       "      <td>SANTA FE</td>\n",
       "      <td>Gran Usuario MEM</td>\n",
       "      <td>Gran Usuario</td>\n",
       "      <td>GUMAS/AUTOGENERADORES</td>\n",
       "      <td>Industrial/Comercial Grande</td>\n",
       "      <td>336.297</td>\n",
       "      <td>2012-01-01</td>\n",
       "    </tr>\n",
       "    <tr>\n",
       "      <th>3</th>\n",
       "      <td>2012</td>\n",
       "      <td>1</td>\n",
       "      <td>ACINROSY</td>\n",
       "      <td>ACINDAR ROSARIO EX-NAVARRO</td>\n",
       "      <td>GU</td>\n",
       "      <td>LITORAL</td>\n",
       "      <td>SANTA FE</td>\n",
       "      <td>Gran Usuario MEM</td>\n",
       "      <td>Gran Usuario</td>\n",
       "      <td>GUMAS/AUTOGENERADORES</td>\n",
       "      <td>Industrial/Comercial Grande</td>\n",
       "      <td>601.066</td>\n",
       "      <td>2012-01-01</td>\n",
       "    </tr>\n",
       "    <tr>\n",
       "      <th>4</th>\n",
       "      <td>2012</td>\n",
       "      <td>1</td>\n",
       "      <td>ACINTBOY</td>\n",
       "      <td>ACINDAR PTA. TABLADA</td>\n",
       "      <td>GU</td>\n",
       "      <td>GRAN BS.AS.</td>\n",
       "      <td>BUENOS AIRES</td>\n",
       "      <td>Gran Usuario MEM</td>\n",
       "      <td>Gran Usuario</td>\n",
       "      <td>GUMAS/AUTOGENERADORES</td>\n",
       "      <td>Industrial/Comercial Grande</td>\n",
       "      <td>3076.618</td>\n",
       "      <td>2012-01-01</td>\n",
       "    </tr>\n",
       "  </tbody>\n",
       "</table>\n",
       "</div>"
      ]
     },
     "execution_count": 49,
     "metadata": {},
     "output_type": "execute_result"
    }
   ],
   "source": [
    "DATASET_PATH = '../datasets/demanda-historica.csv'\n",
    "demanda= pd.read_csv(DATASET_PATH,parse_dates=['indice_tiempo']) # hay datos repetidos entre 2017 y 2020\n",
    "\n",
    "print('regiones:',demanda.region.unique())\n",
    "print('categoria_demanda:',demanda.categoria_demanda.unique())\n",
    "print('tipo_agente:',demanda.tipo_agente.unique())\n",
    "#demanda.columns = dataset.columns.str.lower()\n",
    "\n",
    "demanda.rename(columns={'indice_tiempo':'ds','demanda_MWh':'demanda'},inplace=True)\n",
    "\n",
    "demanda.head()"
   ]
  },
  {
   "cell_type": "code",
   "execution_count": 6,
   "metadata": {},
   "outputs": [
    {
     "data": {
      "text/html": [
       "<div>\n",
       "<style scoped>\n",
       "    .dataframe tbody tr th:only-of-type {\n",
       "        vertical-align: middle;\n",
       "    }\n",
       "\n",
       "    .dataframe tbody tr th {\n",
       "        vertical-align: top;\n",
       "    }\n",
       "\n",
       "    .dataframe thead th {\n",
       "        text-align: right;\n",
       "    }\n",
       "</style>\n",
       "<table border=\"1\" class=\"dataframe\">\n",
       "  <thead>\n",
       "    <tr style=\"text-align: right;\">\n",
       "      <th></th>\n",
       "      <th>anio</th>\n",
       "      <th>mes</th>\n",
       "      <th>agente_nemo</th>\n",
       "      <th>agente_descripcion</th>\n",
       "      <th>tipo_agente</th>\n",
       "      <th>region</th>\n",
       "      <th>provincia</th>\n",
       "      <th>categoria_area</th>\n",
       "      <th>categoria_demanda</th>\n",
       "      <th>tarifa</th>\n",
       "      <th>categoria_tarifa</th>\n",
       "      <th>demanda</th>\n",
       "      <th>ds</th>\n",
       "    </tr>\n",
       "  </thead>\n",
       "  <tbody>\n",
       "    <tr>\n",
       "      <th>652</th>\n",
       "      <td>2012</td>\n",
       "      <td>1</td>\n",
       "      <td>EDENOROD</td>\n",
       "      <td>EDENOR DISTRIBUIDOR</td>\n",
       "      <td>DI</td>\n",
       "      <td>GRAN BS.AS.</td>\n",
       "      <td>BUENOS AIRES</td>\n",
       "      <td>Edenor</td>\n",
       "      <td>Distribuidor</td>\n",
       "      <td>Alumbrado Publico</td>\n",
       "      <td>Residencial</td>\n",
       "      <td>52975.763</td>\n",
       "      <td>2012-01-01</td>\n",
       "    </tr>\n",
       "    <tr>\n",
       "      <th>653</th>\n",
       "      <td>2012</td>\n",
       "      <td>1</td>\n",
       "      <td>EDENOROD</td>\n",
       "      <td>EDENOR DISTRIBUIDOR</td>\n",
       "      <td>DI</td>\n",
       "      <td>GRAN BS.AS.</td>\n",
       "      <td>BUENOS AIRES</td>\n",
       "      <td>Edenor</td>\n",
       "      <td>Distribuidor</td>\n",
       "      <td>GRANDES USUARIOS C DEM MAYOR O IGUAL 300KW</td>\n",
       "      <td>Industrial/Comercial Grande</td>\n",
       "      <td>195106.632</td>\n",
       "      <td>2012-01-01</td>\n",
       "    </tr>\n",
       "    <tr>\n",
       "      <th>654</th>\n",
       "      <td>2012</td>\n",
       "      <td>1</td>\n",
       "      <td>EDENOROD</td>\n",
       "      <td>EDENOR DISTRIBUIDOR</td>\n",
       "      <td>DI</td>\n",
       "      <td>GRAN BS.AS.</td>\n",
       "      <td>BUENOS AIRES</td>\n",
       "      <td>Edenor</td>\n",
       "      <td>Distribuidor</td>\n",
       "      <td>MENOR 10KW NO RES. MAYOR O IGUAL 4000 KWH/BIM</td>\n",
       "      <td>Comercial</td>\n",
       "      <td>46675.208</td>\n",
       "      <td>2012-01-01</td>\n",
       "    </tr>\n",
       "    <tr>\n",
       "      <th>655</th>\n",
       "      <td>2012</td>\n",
       "      <td>1</td>\n",
       "      <td>EDENOROD</td>\n",
       "      <td>EDENOR DISTRIBUIDOR</td>\n",
       "      <td>DI</td>\n",
       "      <td>GRAN BS.AS.</td>\n",
       "      <td>BUENOS AIRES</td>\n",
       "      <td>Edenor</td>\n",
       "      <td>Distribuidor</td>\n",
       "      <td>MENOR 10KW NO RES. MENOR 4000 KWH BIM</td>\n",
       "      <td>Comercial</td>\n",
       "      <td>138687.688</td>\n",
       "      <td>2012-01-01</td>\n",
       "    </tr>\n",
       "    <tr>\n",
       "      <th>656</th>\n",
       "      <td>2012</td>\n",
       "      <td>1</td>\n",
       "      <td>EDENOROD</td>\n",
       "      <td>EDENOR DISTRIBUIDOR</td>\n",
       "      <td>DI</td>\n",
       "      <td>GRAN BS.AS.</td>\n",
       "      <td>BUENOS AIRES</td>\n",
       "      <td>Edenor</td>\n",
       "      <td>Distribuidor</td>\n",
       "      <td>RES. MAYOR 1000 Y MENOR O IGUAL 1400 KWH BIM</td>\n",
       "      <td>Residencial</td>\n",
       "      <td>129618.168</td>\n",
       "      <td>2012-01-01</td>\n",
       "    </tr>\n",
       "  </tbody>\n",
       "</table>\n",
       "</div>"
      ]
     },
     "execution_count": 6,
     "metadata": {},
     "output_type": "execute_result"
    }
   ],
   "source": [
    "demanda_gba=demanda[(demanda.categoria_demanda=='Distribuidor') & \n",
    "                    #(demanda.categoria_demanda=='Gran Usuario')&\n",
    "                    (demanda.region=='GRAN BS.AS.')\n",
    "                    #& (demanda.tipo_agente=='GU') \n",
    "                    & (demanda.agente_nemo!='EDELAPID')  #edenor y edesur\n",
    "                    & (demanda.agente_descripcion!='YPF REFINERIA LA PLATA')\n",
    "                    ]\n",
    "demanda_gba.head()"
   ]
  },
  {
   "cell_type": "code",
   "execution_count": 7,
   "metadata": {},
   "outputs": [],
   "source": [
    "demanda_mensual=demanda_gba[['demanda','ds']].groupby('ds').sum()\n",
    "demanda_mensual.reset_index(inplace=True)\n",
    "\n",
    "dataset_mensual = dataset.groupby(pd.Grouper(key='ds', freq='1M')).sum()\n",
    "#dataset_mensual=dataset[['y','ds']].groupby('ds').sum()\n",
    "dataset_mensual.reset_index(inplace=True)\n",
    "#dataset_mensual.ds.dt.day=1\n",
    "dataset_mensual.ds=dataset_mensual.ds.apply(lambda dt: dt.replace(day=1))\n",
    "dataset_mensual = dataset_mensual[(dataset_mensual.ds>='2011-12-31') & ((dataset_mensual.ds<'2020-02-01'))]"
   ]
  },
  {
   "cell_type": "code",
   "execution_count": null,
   "metadata": {},
   "outputs": [],
   "source": [
    "fig, axs = plt.subplots(2)\n",
    "#fig.suptitle('datos_mensuales')\n",
    "axs[0].plot(demanda_mensual.ds,demanda_mensual.demanda)\n",
    "plt.ylabel('consumo GU')\n",
    "axs[1].plot(dataset_mensual.ds,dataset_mensual.y)\n",
    "plt.ylabel('consumo')\n",
    "plt.show() \n",
    "\n",
    "plt.plot(demanda_mensual.ds,(demanda_mensual.demanda-demanda_mensual.demanda.mean())/demanda_mensual.demanda.std())#, label='demanda GU')\n",
    "plt.plot(dataset_mensual.ds,(dataset_mensual.y-dataset_mensual.y.mean())/dataset_mensual.y.std()) #consumo total"
   ]
  },
  {
   "cell_type": "markdown",
   "metadata": {},
   "source": [
    "En la página del ministerio de energía menciona en varios informes que el consumo eléctrico tiene una marcada componente semestral, ya que en verano aumenta el consumo residencial para refrigeración y en invierno el consumo en industrias."
   ]
  },
  {
   "cell_type": "markdown",
   "metadata": {},
   "source": [
    "## Functions"
   ]
  },
  {
   "cell_type": "code",
   "execution_count": null,
   "metadata": {},
   "outputs": [],
   "source": [
    "def predict(model, y_true_df, times):\n",
    "    sns.set(rc = {'figure.figsize':(10,6)})\n",
    "\n",
    "    y_true_df = y_true_df.head(times)\n",
    "\n",
    "    y_pred_df = model.predict(y_true_df[['ds']])\n",
    "\n",
    "    predictions_df = y_true_df.merge(y_pred_df, on='ds')\n",
    "    predictions_df = predictions_df[['ds', 'y', 'yhat']]\n",
    "    predictions_df = predictions_df.sort_values(by='ds',ascending=True)\n",
    "    \n",
    "    plot(\n",
    "        predictions_df.yhat.values,\n",
    "        predictions_df.y.values\n",
    "    )\n",
    "    model.plot(y_pred_df)"
   ]
  },
  {
   "cell_type": "code",
   "execution_count": null,
   "metadata": {},
   "outputs": [],
   "source": [
    "def plot(y_pred, y_true):\n",
    "    sns.set_style(\"darkgrid\")\n",
    "    plt.plot(y_true, color='green',label=\"True\")        \n",
    "    plt.plot(y_pred, color='blue', label=\"Prediction\")\n",
    "    plt.legend()\n",
    "    plt.show()"
   ]
  },
  {
   "cell_type": "code",
   "execution_count": null,
   "metadata": {},
   "outputs": [],
   "source": [
    "#funciones para ploteo estacional, básico y períodograma\n",
    "plot_params = dict(\n",
    "    color=\"0.75\",\n",
    "    style=\".-\",\n",
    "    markeredgecolor=\"0.25\",\n",
    "    markerfacecolor=\"0.25\",\n",
    "    legend=False,\n",
    ")\n",
    "#%config InlineBackend.figure_format = 'retina'\n",
    "\n",
    "def seasonal_plot(X, y, period, freq, ax=None):\n",
    "    if ax is None:\n",
    "        _, ax = plt.subplots()\n",
    "    palette = sns.color_palette(\"husl\", n_colors=X[period].nunique(),)\n",
    "    ax = sns.lineplot(\n",
    "        x=freq,\n",
    "        y=y,\n",
    "        hue=period,\n",
    "        data=X,\n",
    "        ci=False,\n",
    "        ax=ax,\n",
    "        palette=palette,\n",
    "        legend=False,\n",
    "    )\n",
    "    ax.set_title(f\"Seasonal Plot ({period}/{freq})\")\n",
    "    for line, name in zip(ax.lines, X[period].unique()):\n",
    "        y_ = line.get_ydata()[-1]\n",
    "        ax.annotate(\n",
    "            name,\n",
    "            xy=(1, y_),\n",
    "            xytext=(6, 0),\n",
    "            color=line.get_color(),\n",
    "            xycoords=ax.get_yaxis_transform(),\n",
    "            textcoords=\"offset points\",\n",
    "            size=14,\n",
    "            va=\"center\",\n",
    "        )\n",
    "    return ax\n",
    "\n",
    "\n",
    "def plot_periodogram(ts, detrend='linear', ax=None):\n",
    "    from scipy.signal import periodogram\n",
    "    fs = pd.Timedelta(\"1Y\") / pd.Timedelta(\"1D\")\n",
    "    freqencies, spectrum = periodogram(\n",
    "        ts,\n",
    "        fs=fs,\n",
    "        detrend=detrend,\n",
    "        window=\"boxcar\",\n",
    "        scaling='spectrum',\n",
    "    )\n",
    "    if ax is None:\n",
    "        _, ax = plt.subplots()\n",
    "    ax.step(freqencies, spectrum, color=\"purple\")\n",
    "    ax.set_xscale(\"log\")\n",
    "    ax.set_xticks([1, 2, 4, 6, 12, 26, 52, 104])\n",
    "    ax.set_xticklabels(\n",
    "        [\n",
    "            \"Annual (1)\",\n",
    "            \"Semiannual (2)\",\n",
    "            \"Quarterly (4)\",\n",
    "            \"Bimonthly (6)\",\n",
    "            \"Monthly (12)\",\n",
    "            \"Biweekly (26)\",\n",
    "            \"Weekly (52)\",\n",
    "            \"Semiweekly (104)\",\n",
    "        ],\n",
    "        rotation=30,\n",
    "    )\n",
    "    ax.ticklabel_format(axis=\"y\", style=\"sci\", scilimits=(0, 0))\n",
    "    ax.set_ylabel(\"Variance\")\n",
    "    ax.set_title(\"Periodogram\")\n",
    "    return ax"
   ]
  },
  {
   "cell_type": "code",
   "execution_count": null,
   "metadata": {},
   "outputs": [],
   "source": [
    "#lags\n",
    "def lagplot(x, y=None, lag=1, standardize=False, ax=None, **kwargs):\n",
    "    from matplotlib.offsetbox import AnchoredText\n",
    "    x_ = x.shift(lag)\n",
    "    if standardize:\n",
    "        x_ = (x_ - x_.mean()) / x_.std()\n",
    "    if y is not None:\n",
    "        y_ = (y - y.mean()) / y.std() if standardize else y\n",
    "    else:\n",
    "        y_ = x\n",
    "    corr = y_.corr(x_)\n",
    "    if ax is None:\n",
    "        fig, ax = plt.subplots()\n",
    "    scatter_kws = dict(\n",
    "        alpha=0.75,\n",
    "        s=3,\n",
    "    )\n",
    "    line_kws = dict(color='C3', )\n",
    "    ax = sns.regplot(x=x_,\n",
    "                     y=y_,\n",
    "                     scatter_kws=scatter_kws,\n",
    "                     line_kws=line_kws,\n",
    "                     lowess=True,\n",
    "                     ax=ax,\n",
    "                     **kwargs)\n",
    "    at = AnchoredText(\n",
    "        f\"{corr:.2f}\",\n",
    "        prop=dict(size=\"large\"),\n",
    "        frameon=True,\n",
    "        loc=\"upper left\",\n",
    "    )\n",
    "    at.patch.set_boxstyle(\"square, pad=0.0\")\n",
    "    ax.add_artist(at)\n",
    "    ax.set(title=f\"Lag {lag}\", xlabel=x_.name, ylabel=y_.name)\n",
    "    return ax\n",
    "\n",
    "\n",
    "def plot_lags(x, y=None, lags=6, nrows=1, lagplot_kwargs={}, **kwargs):\n",
    "    import math\n",
    "    kwargs.setdefault('nrows', nrows)\n",
    "    kwargs.setdefault('ncols', math.ceil(lags / nrows))\n",
    "    kwargs.setdefault('figsize', (kwargs['ncols'] * 2, nrows * 2 + 0.5))\n",
    "    fig, axs = plt.subplots(sharex=True, sharey=True, squeeze=False, **kwargs)\n",
    "    for ax, k in zip(fig.get_axes(), range(kwargs['nrows'] * kwargs['ncols'])):\n",
    "        if k + 1 <= lags:\n",
    "            ax = lagplot(x, y, lag=k + 1, ax=ax, **lagplot_kwargs)\n",
    "            ax.set_title(f\"Lag {k + 1}\", fontdict=dict(fontsize=14))\n",
    "            ax.set(xlabel=\"\", ylabel=\"\")\n",
    "        else:\n",
    "            ax.axis('off')\n",
    "    plt.setp(axs[-1, :], xlabel=x.name)\n",
    "    plt.setp(axs[:, 0], ylabel=y.name if y is not None else x.name)\n",
    "    fig.tight_layout(w_pad=0.1, h_pad=0.1)\n",
    "    return fig"
   ]
  },
  {
   "cell_type": "markdown",
   "metadata": {},
   "source": [
    "## Preprocessing"
   ]
  },
  {
   "cell_type": "code",
   "execution_count": null,
   "metadata": {},
   "outputs": [],
   "source": [
    "train_set, test_set = train_test_split(dataset,0.10095)\n",
    "N_test=len(test_set)"
   ]
  },
  {
   "cell_type": "markdown",
   "metadata": {},
   "source": [
    "Acoto desde 2012 en adelante ya que las oscilaciones se ven de amplitud mas constante. Al observar los años 2006-2011 parecen ir creciendo la tendencia de consumo de energía."
   ]
  },
  {
   "cell_type": "code",
   "execution_count": null,
   "metadata": {},
   "outputs": [],
   "source": [
    "train_set=train_set[train_set.ds>'12-31-2011'] #ultimo dia train 31/12/2019\n",
    "train_set.reset_index(inplace=True)"
   ]
  },
  {
   "cell_type": "code",
   "execution_count": null,
   "metadata": {},
   "outputs": [],
   "source": [
    "plt.plot(train_set.ds,train_set.y)\n",
    "plt.title('train 2012-2019')"
   ]
  },
  {
   "cell_type": "code",
   "execution_count": null,
   "metadata": {},
   "outputs": [],
   "source": [
    "plt.plot(test_set.ds,test_set.y)\n",
    "plt.title('test 2020-2021')"
   ]
  },
  {
   "cell_type": "markdown",
   "metadata": {},
   "source": [
    "## Análisis de estacionalidad\n",
    "\n",
    "referencias de las siguientes funciones: https://www.kaggle.com/learn/time-series"
   ]
  },
  {
   "cell_type": "markdown",
   "metadata": {},
   "source": [
    "### Filtros de media movil"
   ]
  },
  {
   "cell_type": "markdown",
   "metadata": {},
   "source": [
    "#### Trend (anual)"
   ]
  },
  {
   "cell_type": "code",
   "execution_count": null,
   "metadata": {},
   "outputs": [],
   "source": [
    "size_window=365\n",
    "\n",
    "moving_average = train_set.y.rolling(\n",
    "    window=size_window,          # day window\n",
    "    center=True,                 # puts the average at the center of the window\n",
    "    min_periods=size_window//2,  # choose about half the window size\n",
    ").mean()              # compute the mean (could also do median, std, min, max, ...)\n",
    "\n",
    "ax = train_set.y.plot(style=\".\", color=\"0.5\")\n",
    "moving_average.plot(\n",
    "    ax=ax, linewidth=3, title=\"Consumo- Moving Average\", legend=False,\n",
    ");"
   ]
  },
  {
   "cell_type": "code",
   "execution_count": null,
   "metadata": {},
   "outputs": [],
   "source": [
    "plt.plot(train_set.y-moving_average,'.')\n",
    "plt.title('restando la media movil')"
   ]
  },
  {
   "cell_type": "markdown",
   "metadata": {},
   "source": [
    "#### Se pone filtro de media móvil mensual para atenuar las frecuencias semanales y diarias  "
   ]
  },
  {
   "cell_type": "code",
   "execution_count": null,
   "metadata": {},
   "outputs": [],
   "source": [
    "size_window=30\n",
    "\n",
    "moving_average = train_set.y.rolling(\n",
    "    window=size_window,          # day window\n",
    "    center=True,                 # puts the average at the center of the window\n",
    "    min_periods=size_window//2,  # choose about half the window size\n",
    ").mean()              # compute the mean (could also do median, std, min, max, ...)\n",
    "\n",
    "ax = train_set.y.plot(style=\".\", color=\"0.5\")\n",
    "moving_average.plot(\n",
    "    ax=ax, linewidth=3, title=\"Consumo- Moving Average\", legend=False,\n",
    ");"
   ]
  },
  {
   "cell_type": "markdown",
   "metadata": {},
   "source": [
    "Si se compara el resultado de aplicar el filtro de media móvil mensual con el acumulado de consumo por mes se obtiene la sigte. figura. Se aprecia que empieza a aparecer más notablemente la periodicidad similar al consumo mensual. Habría que mejorar la respuesta a este filtro con un filtro digital.\n",
    "Se aprecia periodicidad semestral."
   ]
  },
  {
   "cell_type": "code",
   "execution_count": null,
   "metadata": {},
   "outputs": [],
   "source": [
    "plt.plot(dataset_mensual.ds,dataset_mensual.y/30)\n",
    "plt.plot(train_set.ds,moving_average)"
   ]
  },
  {
   "cell_type": "markdown",
   "metadata": {},
   "source": [
    "### Seasonality"
   ]
  },
  {
   "cell_type": "code",
   "execution_count": null,
   "metadata": {},
   "outputs": [],
   "source": [
    "X = train_set.copy()\n",
    "\n",
    "X['date'] = pd.to_datetime(X['ds'])\n",
    "X['year'] = X['date'].dt.year\n",
    "X['month'] = X['date'].dt.month\n",
    "X['week'] = X['date'].dt.isocalendar().week\n",
    "X['day_month'] = X['date'].dt.day\n",
    "X['day_year'] = X['date'].dt.dayofyear \n",
    "X['day'] = X['date'].dt.dayofweek \n",
    "#X['weekend']=(X['day_week']>5).astype(int)\n",
    "#X['friday']=(X['day_week']==4).astype(int)\n",
    "#X[\"week\"] = X.index.week\n",
    "bins = [0, 91, 183, 275, 366]  #estaciones\n",
    "labels=['Winter', 'Spring', 'Summer', 'Fall'] #hemisferio norte\n",
    "labels=['Summer', 'Fall','Winter', 'Spring'] #hemisferio sur\n",
    "doy = X.day_year\n",
    "X['season'] = pd.cut(doy + 11 - 366*(doy > 355), bins=bins, labels=labels)\n",
    "X.reset_index(inplace=True)"
   ]
  },
  {
   "cell_type": "markdown",
   "metadata": {},
   "source": [
    "#### Frecuencias detectadas en el conjunto de train\n",
    "\n",
    "En el periodgrama se ve un pico máximo en la frecuencia semianual, la segunda componente es bisemanal (cada 2 semanas)."
   ]
  },
  {
   "cell_type": "code",
   "execution_count": null,
   "metadata": {},
   "outputs": [],
   "source": [
    "plot_periodogram(X.y);"
   ]
  },
  {
   "cell_type": "markdown",
   "metadata": {},
   "source": [
    "#### Consumo medio mensual en cada año\n",
    "\n",
    "En la figura siguiente se aprecia que la media de año a año va creciendo hasta 2018. En 2019 descienden un poco los valores medios.\n",
    "Se aprecia que los máximos se producen en los meses 6-7, los meses 4 y 11 son los menores y los meses 1 y 12 vuelven a tener consumos altos (menores que julio dependiendo el año)."
   ]
  },
  {
   "cell_type": "code",
   "execution_count": null,
   "metadata": {},
   "outputs": [],
   "source": [
    "seasonal_plot(X, y='y', period='year', freq='month');"
   ]
  },
  {
   "cell_type": "code",
   "execution_count": null,
   "metadata": {},
   "outputs": [],
   "source": [
    "sns.scatterplot(data=X, x=\"month\", y='y', hue=\"day\",palette=\"deep\")"
   ]
  },
  {
   "cell_type": "code",
   "execution_count": null,
   "metadata": {},
   "outputs": [],
   "source": [
    "ax = sns.boxplot(x=\"day\", y=\"y\", data=X)"
   ]
  },
  {
   "cell_type": "markdown",
   "metadata": {},
   "source": [
    "0 - Lunes, Sábado y domingo hay menos consumo energético. Se podría agregar variable de si es Weekend. "
   ]
  },
  {
   "cell_type": "markdown",
   "metadata": {},
   "source": [
    "### Lags"
   ]
  },
  {
   "cell_type": "code",
   "execution_count": null,
   "metadata": {},
   "outputs": [],
   "source": [
    "#X.reset_index(inplace=True)\n",
    "X.set_index(\n",
    "    pd.PeriodIndex(X.date, freq=\"W\"),\n",
    "    inplace=True,\n",
    ")\n",
    "X.drop(\"date\", axis=1, inplace=True)"
   ]
  },
  {
   "cell_type": "code",
   "execution_count": null,
   "metadata": {},
   "outputs": [],
   "source": [
    "_ = plot_lags(X.y, lags=16, nrows=4)\n",
    "_ = plot_pacf(X.y, lags=16)\n",
    "\n",
    "X.reset_index(inplace=True)"
   ]
  },
  {
   "cell_type": "markdown",
   "metadata": {},
   "source": [
    "Los lag plots indican que la relación de y con sus lags es mayormente linear. La autocorrelation parcial es alta en lag 1, 6, 8, 15, 22,28"
   ]
  },
  {
   "cell_type": "markdown",
   "metadata": {},
   "source": [
    "#### Analisis de temperatura\n",
    "\n",
    "Esta es fácil  ;-)\n",
    "\n",
    "En la siguiente figura se aprecia que la media de temperatura es bastante similar en los distintos meses de cada año. El año que registro menores temperaturas fue 2007."
   ]
  },
  {
   "cell_type": "code",
   "execution_count": null,
   "metadata": {},
   "outputs": [],
   "source": [
    "seasonal_plot(X, y='tmp', period='year', freq='month');"
   ]
  },
  {
   "cell_type": "code",
   "execution_count": null,
   "metadata": {},
   "outputs": [],
   "source": [
    "plot_periodogram(X.tmp);"
   ]
  },
  {
   "cell_type": "markdown",
   "metadata": {},
   "source": [
    "La periodicidad mayor se registra de forma anual, por lo que el análisis es consistente."
   ]
  },
  {
   "cell_type": "markdown",
   "metadata": {
    "tags": []
   },
   "source": [
    "# Model Definition"
   ]
  },
  {
   "cell_type": "code",
   "execution_count": null,
   "metadata": {},
   "outputs": [],
   "source": [
    "temperatura = pd.DataFrame(train_set[['ds','tmp']])\n",
    "model = Prophet(\n",
    "    #interval_width    = 0.99,\n",
    "    #daily_seasonality = False,\n",
    "    #weekly_seasonality =False,\n",
    "               )\n",
    "model.add_regressor('tmp')\n",
    "\n",
    "#model.add_seasonality(name='weekly', period=7, fourier_order=4)\n",
    "#model.add_seasonality(name='semi-weekly', period=3.5, fourier_order=4)\n",
    "#model.add_seasonality('quarterly', period=91.25, fourier_order=8, mode='additive')\n",
    "#model.add_seasonality('semi-annualy', period=182.5, fourier_order=4, mode='additive')\n",
    "\n",
    "#model.add_regressor('regressor', mode='additive')\n",
    "#model.add_seasonality(name='anual',period=365,fourier_order=4)\n",
    "model.fit(train_set)\n",
    "\n",
    "#fig=predict(model, test_set, N_test)"
   ]
  },
  {
   "cell_type": "code",
   "execution_count": null,
   "metadata": {},
   "outputs": [],
   "source": [
    "dataset_periodo=dataset[dataset.ds>'12-31-2011']\n",
    "dataset_periodo.reset_index(inplace=True)\n",
    "\n",
    "future['tmp']=dataset_periodo.tmp\n",
    "                            \n",
    "forecast = model.predict(future)\n",
    "fig=model.plot(forecast)"
   ]
  },
  {
   "cell_type": "code",
   "execution_count": null,
   "metadata": {},
   "outputs": [],
   "source": [
    "fig=model.plot_components(forecast)"
   ]
  },
  {
   "cell_type": "code",
   "execution_count": null,
   "metadata": {},
   "outputs": [],
   "source": [
    "N=len(forecast)\n",
    "y_fore=forecast['yhat']\n",
    "y_fore_future=pd.DataFrame(y_fore[-N_test:])\n",
    "y_fore_train=pd.DataFrame(y_fore[0:N-N_test])\n",
    "plt.plot(train_set.y)\n",
    "plt.plot(y_fore_train)"
   ]
  },
  {
   "cell_type": "code",
   "execution_count": null,
   "metadata": {},
   "outputs": [],
   "source": [
    "forecast.info()"
   ]
  },
  {
   "cell_type": "markdown",
   "metadata": {},
   "source": [
    "Amplio dataset a partir de la fecha"
   ]
  },
  {
   "cell_type": "code",
   "execution_count": null,
   "metadata": {},
   "outputs": [],
   "source": [
    "plt.plot(test_set.ds,test_set.y)\n",
    "plt.plot(test_set.ds,y_fore_future)"
   ]
  },
  {
   "cell_type": "markdown",
   "metadata": {},
   "source": [
    "muy mejorable !"
   ]
  },
  {
   "cell_type": "markdown",
   "metadata": {},
   "source": [
    "### Prophet para temperatura"
   ]
  },
  {
   "cell_type": "code",
   "execution_count": null,
   "metadata": {},
   "outputs": [],
   "source": [
    "#model.add_seasonality(name='weekly', period=7, fourier_order=4)\n",
    "#model.add_seasonality(name='semi-weekly', period=3.5, fourier_order=4)\n",
    "#model.add_seasonality('quarterly', period=91.25, fourier_order=8, mode='additive')\n",
    "#model.add_seasonality('semi-annualy', period=182.5, fourier_order=4, mode='additive')\n",
    "\n",
    "#model.add_regressor('regressor', mode='additive')\n",
    "#model.add_seasonality(name='anual',period=365,fourier_order=4)\n",
    "train_set_tmp=train_set[['ds','tmp']]\n",
    "train_set_tmp.rename(columns={'tmp':'y'},inplace=True)\n",
    "\n",
    "test_set_tmp=test_set[['ds','tmp']]\n",
    "test_set_tmp.rename(columns={'tmp':'y'},inplace=True)\n",
    "model = Prophet()\n",
    "\n",
    "model.fit(train_set_tmp)\n",
    "\n",
    "fig=predict(model, test_set_tmp, N_test)"
   ]
  },
  {
   "cell_type": "code",
   "execution_count": null,
   "metadata": {},
   "outputs": [],
   "source": [
    "future = model.make_future_dataframe(periods=N_test)\n",
    "forecast = model.predict(future)\n",
    "#fig=model.plot(forecast)\n",
    "fig=model.plot_components(forecast)"
   ]
  },
  {
   "cell_type": "markdown",
   "metadata": {},
   "source": [
    "### Cooling & heating deggre \n",
    "http://www.vesma.com/ddd/ddcalcs.htm\n",
    "\n",
    "https://repositoriosdigitales.mincyt.gob.ar/vufind/Record/SEDICI_3dc5812eca4a6d54f3edad5e0497f097"
   ]
  },
  {
   "cell_type": "code",
   "execution_count": null,
   "metadata": {},
   "outputs": [],
   "source": [
    "x ='https://raw.githubusercontent.com/magistery-tps/time-series-tp/master/datasets/Temperatura_lon_-58.2813_lat_-34.8115.csv'\n",
    "temp_cd_hd = pd.read_csv(x,parse_dates=['Fecha'])\n",
    "temp_cd_hd.columns = temp_cd_hd.columns.str.lower()\n",
    "\n",
    "temp_cd_hd.rename(columns={'fecha':'ds'},inplace=True)\n",
    "temp_cd_hd.drop(columns=['unnamed: 0'],inplace=True)\n",
    "\n",
    "temp_cd_hd.head()"
   ]
  },
  {
   "cell_type": "code",
   "execution_count": null,
   "metadata": {},
   "outputs": [],
   "source": [
    "tinvierno=18\n",
    "tverano=23"
   ]
  },
  {
   "cell_type": "code",
   "execution_count": null,
   "metadata": {},
   "outputs": [],
   "source": [
    "temp_cd_hd['date'] = pd.to_datetime(temp_cd_hd['ds'])\n",
    "temp_cd_hd['day_year'] = temp_cd_hd['date'].dt.dayofyear \n",
    "bins = [0, 91, 183, 275, 366]  #estaciones\n",
    "labels=['verano', 'otoño','invierno', 'primavera'] #hemisferio sur\n",
    "doy = temp_cd_hd.day_year\n",
    "temp_cd_hd['season'] = pd.cut(doy + 11 - 366*(doy > 355), bins=bins, labels=labels)\n",
    "temp_cd_hd.reset_index(inplace=True)\n",
    "\n",
    "temp_cd_hd['t_base']=temp_cd_hd['season'].apply(lambda x: tverano if x in ('verano', 'primavera') else tinvierno)"
   ]
  },
  {
   "cell_type": "code",
   "execution_count": null,
   "metadata": {},
   "outputs": [],
   "source": [
    "def heating_fun(t_base,t_max,t_min):\n",
    "    if (t_min>t_base):\n",
    "        dh=0\n",
    "    elif ((t_max+t_min)/2>t_base):\n",
    "        dh=(t_base-t_min)/4\n",
    "    elif (t_max>=t_base):\n",
    "        dh=(t_base-t_min)/2-(t_max-t_base)/4\n",
    "    elif (t_max<t_base):\n",
    "        dh=t_base-(t_max+t_min)/2\n",
    "    else: \n",
    "        dh=0\n",
    "    return dh\n",
    "\n",
    "def cooling_fun(t_base,t_max,t_min):\n",
    "    if (t_max<t_base):\n",
    "        dc=0\n",
    "    elif ((t_max+t_min)/2<t_base):\n",
    "        dc=(t_max-t_base)/4\n",
    "    elif (t_min<=t_base):\n",
    "        dc=(t_max-t_base)/2-(t_base-t_min)/4\n",
    "    elif (t_min>t_base):\n",
    "        dc=(t_max+t_min)/2-t_base\n",
    "    else: \n",
    "        dc=0\n",
    "    return dc"
   ]
  },
  {
   "cell_type": "code",
   "execution_count": null,
   "metadata": {},
   "outputs": [],
   "source": [
    "temp_cd_hd['cooling_day']=temp_cd_hd.apply(lambda x: cooling_fun(x.t_base, x.t_max,x.t_min), axis=1)\n",
    "temp_cd_hd['heating_day']=temp_cd_hd.apply(lambda x: heating_fun(x.t_base, x.t_max,x.t_min), axis=1)\n",
    "#train_set.reset_index(inplace=True)"
   ]
  },
  {
   "cell_type": "code",
   "execution_count": null,
   "metadata": {},
   "outputs": [],
   "source": [
    "plt.plot(temp_cd_hd.ds,temp_cd_hd.heating_day)\n",
    "plt.plot(temp_cd_hd.ds,temp_cd_hd.cooling_day)"
   ]
  },
  {
   "cell_type": "code",
   "execution_count": null,
   "metadata": {},
   "outputs": [],
   "source": [
    "temp_cd_hd[temp_cd_hd.ds>'2012-01-01']"
   ]
  },
  {
   "cell_type": "code",
   "execution_count": null,
   "metadata": {},
   "outputs": [],
   "source": [
    "temperatura = pd.DataFrame(temp_cd_hd[['ds','heating_day','cooling_day']])\n",
    "temperatura=temperatura[(temperatura.ds>='2012-01-01')&(temperatura.ds<='2021-07-31')]\n",
    "temperatura.reset_index(inplace=True)\n",
    "#temperatura_train=temperatura[(temperatura.ds>'2011-12-31') & (temperatura.ds<='2019-12-31')]\n",
    "#temperatura_test=temperatura[(temperatura.ds>'2019-12-31') & (temperatura.ds<='2021-07-31')]"
   ]
  },
  {
   "cell_type": "code",
   "execution_count": null,
   "metadata": {},
   "outputs": [],
   "source": [
    "train_set=pd.merge(train_set,temperatura, how='left',on='ds')"
   ]
  },
  {
   "cell_type": "code",
   "execution_count": null,
   "metadata": {},
   "outputs": [],
   "source": [
    "train_set"
   ]
  },
  {
   "cell_type": "code",
   "execution_count": null,
   "metadata": {},
   "outputs": [],
   "source": [
    "#temperatura = pd.DataFrame(temp_cd_hd[['ds','heating_day','cooling_day']])\n",
    "#temperatura = temperatura_train\n",
    "model = Prophet(\n",
    "    #interval_width    = 0.99,\n",
    "    #daily_seasonality = False,\n",
    "    #weekly_seasonality =True,\n",
    "               )\n",
    "model.add_regressor('heating_day')\n",
    "model.add_regressor('cooling_day')\n",
    "\n",
    "#model.add_seasonality(name='weekly', period=7, fourier_order=4)\n",
    "#model.add_seasonality(name='semi-weekly', period=3.5, fourier_order=4)\n",
    "#model.add_seasonality('quarterly', period=91.25, fourier_order=8, mode='additive')\n",
    "#model.add_seasonality('semi-annualy', period=182.5, fourier_order=4, mode='additive')\n",
    "\n",
    "#model.add_regressor('regressor', mode='additive')\n",
    "#model.add_seasonality(name='anual',period=365,fourier_order=4)\n",
    "model.fit(train_set)\n",
    "\n",
    "#fig=predict(model, test_set, N_test)"
   ]
  },
  {
   "cell_type": "code",
   "execution_count": null,
   "metadata": {},
   "outputs": [],
   "source": [
    "fig=model.plot_components(forecast)"
   ]
  },
  {
   "cell_type": "code",
   "execution_count": null,
   "metadata": {},
   "outputs": [],
   "source": [
    "future = model.make_future_dataframe(periods=N_test)\n",
    "future['heating_day']=temperatura.heating_day\n",
    "future['cooling_day']=temperatura.cooling_day\n",
    "                                                         \n",
    "forecast = model.predict(future)\n",
    "fig=model.plot(forecast)"
   ]
  },
  {
   "cell_type": "code",
   "execution_count": null,
   "metadata": {},
   "outputs": [],
   "source": [
    "N=len(forecast)\n",
    "y_fore=forecast['yhat']\n",
    "y_fore_future=pd.DataFrame(y_fore[-N_test:])\n",
    "y_fore_train=pd.DataFrame(y_fore[0:N-N_test])\n",
    "plt.plot(test_set.ds,test_set.y)\n",
    "plt.plot(test_set.ds,y_fore_future)"
   ]
  },
  {
   "cell_type": "code",
   "execution_count": null,
   "metadata": {},
   "outputs": [],
   "source": [
    "plt.plot(train_set.cooling_day,train_set.y,'x')\n",
    "plt.plot(train_set.heating_day,train_set.y,'x')"
   ]
  },
  {
   "cell_type": "code",
   "execution_count": null,
   "metadata": {},
   "outputs": [],
   "source": [
    "plt.plot(train_set.heating_day,train_set.cooling_day,'x')"
   ]
  },
  {
   "cell_type": "markdown",
   "metadata": {},
   "source": [
    "## Outliers"
   ]
  },
  {
   "cell_type": "code",
   "execution_count": null,
   "metadata": {},
   "outputs": [],
   "source": [
    "#!pip install --upgrade pip\n",
    "#!pip install kats==0.1 ax-platform==0.2.3 statsmodels==0.12.2"
   ]
  },
  {
   "cell_type": "code",
   "execution_count": null,
   "metadata": {},
   "outputs": [],
   "source": [
    "#from kats.consts import TimeSeriesData"
   ]
  },
  {
   "cell_type": "code",
   "execution_count": null,
   "metadata": {},
   "outputs": [],
   "source": [
    "temperatura = pd.DataFrame(train_set[['ds','tmp']])\n",
    "model = Prophet(\n",
    "    #interval_width    = 0.99,\n",
    "    #daily_seasonality = False,\n",
    "    #weekly_seasonality =False,\n",
    "               )\n",
    "model.add_regressor('tmp')\n",
    "\n",
    "#model.add_seasonality(name='weekly', period=7, fourier_order=4)\n",
    "#model.add_seasonality(name='semi-weekly', period=3.5, fourier_order=4)\n",
    "#model.add_seasonality('quarterly', period=91.25, fourier_order=8, mode='additive')\n",
    "#model.add_seasonality('semi-annualy', period=182.5, fourier_order=4, mode='additive')\n",
    "\n",
    "#model.add_regressor('regressor', mode='additive')\n",
    "#model.add_seasonality(name='anual',period=365,fourier_order=4)\n",
    "model.fit(train_set)\n",
    "\n",
    "#fig=predict(model, test_set, N_test)"
   ]
  },
  {
   "cell_type": "code",
   "execution_count": null,
   "metadata": {},
   "outputs": [],
   "source": [
    "future = model.make_future_dataframe(periods=N_test)\n",
    "future['tmp']=dataset.tmp\n",
    "                                                         \n",
    "forecast = model.predict(future)\n",
    "fig=model.plot(forecast)"
   ]
  },
  {
   "cell_type": "code",
   "execution_count": null,
   "metadata": {},
   "outputs": [],
   "source": [
    "fig=model.plot_components(forecast)"
   ]
  },
  {
   "cell_type": "code",
   "execution_count": null,
   "metadata": {},
   "outputs": [],
   "source": [
    "N=len(forecast)\n",
    "y_fore=forecast['yhat']\n",
    "y_fore_future=pd.DataFrame(y_fore[-N_test:])\n",
    "y_fore_train=pd.DataFrame(y_fore[0:N-N_test])\n",
    "plt.plot(train_set.y)\n",
    "plt.plot(y_fore_train)"
   ]
  },
  {
   "cell_type": "code",
   "execution_count": null,
   "metadata": {},
   "outputs": [],
   "source": [
    "plt.plot(test_set.ds,test_set.y)\n",
    "plt.plot(test_set.ds,y_fore_future)"
   ]
  }
 ],
 "metadata": {
  "interpreter": {
   "hash": "afa1953de36fe74bf64e0007a050b01fd0993b8df6207b9778c7f34846b9bbf9"
  },
  "kernelspec": {
   "display_name": "Python 3 (ipykernel)",
   "language": "python",
   "name": "python3"
  },
  "language_info": {
   "codemirror_mode": {
    "name": "ipython",
    "version": 3
   },
   "file_extension": ".py",
   "mimetype": "text/x-python",
   "name": "python",
   "nbconvert_exporter": "python",
   "pygments_lexer": "ipython3",
   "version": "3.10.5"
  },
  "widgets": {
   "application/vnd.jupyter.widget-state+json": {
    "state": {},
    "version_major": 2,
    "version_minor": 0
   }
  }
 },
 "nbformat": 4,
 "nbformat_minor": 4
}
